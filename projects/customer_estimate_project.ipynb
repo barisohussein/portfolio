{
 "cells": [
  {
   "cell_type": "markdown",
   "metadata": {},
   "source": [
    "Challenge: As a business we have new customers who we want to estimate how much they volume they would generate. There are two main ways we can get this information. Asking the customoer directly or using the characteristics and assinging them a volume amount based on similar customers actuals'. Below we use Regresssion to help us predict this for any combo of the features of our customers might have. \n",
    "\n",
    "Future Improvements: One way to improve this model would be to fine tune the model to have a greater R-sqauared value and a lower MSE. We could do this by feature engineering and bringing in additional data to determine if there are other features that correlate with the expected volume of a customer. "
   ]
  },
  {
   "cell_type": "markdown",
   "metadata": {},
   "source": [
    "1. data prep"
   ]
  },
  {
   "cell_type": "code",
   "execution_count": null,
   "metadata": {},
   "outputs": [],
   "source": [
    "import pandas as pd\n",
    "\n",
    "# Load the dataset\n",
    "data = pd.read_csv('/Users/barisohussein/Downloads/processing_mock_data.csv')\n",
    "\n",
    "data"
   ]
  },
  {
   "cell_type": "code",
   "execution_count": null,
   "metadata": {},
   "outputs": [],
   "source": [
    "\n",
    "#visualize the data\n",
    "plt.figure(figsize=(30,10))\n",
    "plt.plot(data['month_processed'],data['volume'])\n",
    "plt.xlabel('Date')\n",
    "plt.ylabel('Volume')\n",
    "plt.title('Monthly Customer Volume')\n",
    "plt.show()"
   ]
  },
  {
   "cell_type": "code",
   "execution_count": null,
   "metadata": {},
   "outputs": [],
   "source": [
    "# Convert date columns to datetime objects\n",
    "data['month_processed'] = pd.to_datetime(data['month_processed'], format='%b-%y')\n",
    "data['month_booked'] = pd.to_datetime(data['month_booked'], format='%b-%y')\n",
    "\n",
    "data['booked_month'] = data['month_booked'].dt.month\n",
    "data['booked_year'] = data['month_booked'].dt.year\n",
    "\n",
    "# Encode categorical variables (segment and denomination) using one-hot encoding\n",
    "data = pd.get_dummies(data, columns=['segment', 'denomination','size'], drop_first=False)\n",
    "\n",
    "# Split the data into features (X) and target (y)\n",
    "X = data[['segment_SME', 'segment_ENT', 'segment_MM','booked_month', 'denomination_Catholic', 'size_100-200',\t'size_200-300',\t'size_500-1100']]\n",
    "y = data['volume']"
   ]
  },
  {
   "cell_type": "code",
   "execution_count": null,
   "metadata": {},
   "outputs": [],
   "source": [
    "train_data = X_train.join(y_train)"
   ]
  },
  {
   "cell_type": "code",
   "execution_count": null,
   "metadata": {},
   "outputs": [],
   "source": [
    "plt.figure(figsize=(15,8))\n",
    "sns.heatmap(train_data.corr(),annot=True, cmap ='YlGnBu')"
   ]
  },
  {
   "cell_type": "markdown",
   "metadata": {},
   "source": [
    "2. Model training"
   ]
  },
  {
   "cell_type": "code",
   "execution_count": null,
   "metadata": {},
   "outputs": [],
   "source": [
    "from sklearn.model_selection import train_test_split\n",
    "from sklearn.ensemble import RandomForestRegressor \n",
    "# from sklearn.linear_model import LinearRegression Alternative option\n",
    " \n",
    " # Split the data into training and testing sets\n",
    "X_train, X_test, y_train, y_test = train_test_split(X, y, test_size=0.2, random_state=42)\n",
    "\n",
    "# Initialize the regression model\n",
    "model = RandomForestRegressor()\n",
    "\n",
    "# Train the model\n",
    "model.fit(X_train, y_train)\n"
   ]
  },
  {
   "cell_type": "markdown",
   "metadata": {},
   "source": [
    "3. Model Eval"
   ]
  },
  {
   "cell_type": "code",
   "execution_count": null,
   "metadata": {},
   "outputs": [],
   "source": [
    "from sklearn.metrics import mean_squared_error, r2_score\n",
    "\n",
    "# Make predictions on the test set\n",
    "y_pred = model.predict(X_test)\n",
    "\n",
    "# Evaluate the model\n",
    "mse = mean_squared_error(y_test, y_pred)\n",
    "r2 = r2_score(y_test, y_pred)\n",
    "\n",
    "print(f\"Mean Squared Error: {mse}\")\n",
    "print(f\"R-squared: {r2}\")\n"
   ]
  },
  {
   "cell_type": "markdown",
   "metadata": {},
   "source": [
    "4. Create series for new customer characteristics "
   ]
  },
  {
   "cell_type": "code",
   "execution_count": null,
   "metadata": {},
   "outputs": [],
   "source": [
    "# Replace the values below with the characteristics of the new customer\n",
    "new_customer = {\n",
    "    'segment_SME': 1,  # 1 if the segment is SME, 0 otherwise\n",
    "    'segment_ENT': 0,  # 1 if the segment is ENT, 0 otherwise\n",
    "    'segment_MM': 0,  # 1 if the segment is MM, 0 otherwise\n",
    "        'booked_month': 4, # Replace with the month booked,\n",
    "    'denomination_Catholic': 1,  # 1 if the denomination is Catholic, 0 otherwise\n",
    "'size_100-200': 0,\n",
    "'size_200-300': 0,\n",
    "'size_500-1100': 1\n",
    "\n",
    "}\n",
    "\n",
    "# Create a DataFrame for the new customer\n",
    "new_customer_df = pd.DataFrame(new_customer, index=[0])\n",
    "\n",
    "# Make predictions for the new customer\n",
    "predicted_volume = model.predict(new_customer_df)\n",
    "\n",
    "print(f\"Predicted Volume for New Customer: {predicted_volume[0]}\")\n"
   ]
  },
  {
   "cell_type": "code",
   "execution_count": null,
   "metadata": {},
   "outputs": [],
   "source": [
    "import itertools\n",
    "\n",
    "# Define the range of values for each feature\n",
    "segment_values = [0, 1]  # 0 for False, 1 for True\n",
    "denomination_values = [0, 1]  # 0 for Non-Catholic, 1 for Catholic\n",
    "size_values = [0, 1]  # 0 for 100-200, 1 for 200-300, 2 for 500-1100\n",
    "booked_month_values = list(range(1, 13))  # 1 to 12 for months\n",
    "\n",
    "# Generate all possible combinations of feature values\n",
    "scenarios = list(itertools.product(segment_values, denomination_values, size_values, booked_month_values))\n",
    "\n",
    "# Create a list of dictionaries to represent each scenario\n",
    "new_customers = []\n",
    "for scenario in scenarios:\n",
    "    new_customer = {\n",
    "        'segment_SME': scenario[0],\n",
    "        'segment_ENT': not scenario[0],  # Invert the value for the other segments\n",
    "        'segment_MM': not scenario[0],\n",
    "        'booked_month': scenario[3],\n",
    "        'denomination_Catholic': scenario[1],\n",
    "        'size_100-200': scenario[2] == 0,\n",
    "        'size_200-300': scenario[2] == 1,\n",
    "        'size_500-1100': scenario[2] == 2\n",
    "    }\n",
    "    new_customers.append(new_customer)\n",
    "\n",
    "# Print the first few generated scenarios\n",
    "for i, customer in enumerate(new_customers[:10]):  # Print the first 10 scenarios as an example\n",
    "    print(f\"Scenario {i + 1}: {customer}\")\n"
   ]
  },
  {
   "cell_type": "markdown",
   "metadata": {},
   "source": [
    "5. Export data"
   ]
  },
  {
   "cell_type": "code",
   "execution_count": null,
   "metadata": {},
   "outputs": [],
   "source": [
    "\n",
    "# Create a DataFrame for the new customer scenarios\n",
    "new_customers_df = pd.DataFrame(new_customers)\n",
    "\n",
    "# Make predictions for the new customer scenarios\n",
    "predicted_volumes = model.predict(new_customers_df)\n",
    "\n",
    "# Create a new DataFrame to store the results\n",
    "results_df = pd.DataFrame({'Predicted_Volume': predicted_volumes})\n",
    "\n",
    "# Save the results to a CSV file\n",
    "#results_df.to_csv('predicted_volumes.csv', index=False)"
   ]
  },
  {
   "cell_type": "code",
   "execution_count": null,
   "metadata": {},
   "outputs": [],
   "source": [
    "# Save the results to a CSV file\n",
    "\n",
    "new_customers_df = new_customers_df.join(results_df)\n",
    "new_customers_df.to_csv('/Users/barisohussein/Downloads/mock_predicted_volumes.csv', index=False)"
   ]
  }
 ],
 "metadata": {
  "kernelspec": {
   "display_name": "Python 3.10.5 64-bit",
   "language": "python",
   "name": "python3"
  },
  "language_info": {
   "codemirror_mode": {
    "name": "ipython",
    "version": 3
   },
   "file_extension": ".py",
   "mimetype": "text/x-python",
   "name": "python",
   "nbconvert_exporter": "python",
   "pygments_lexer": "ipython3",
   "version": "3.10.5"
  },
  "orig_nbformat": 4,
  "vscode": {
   "interpreter": {
    "hash": "aee8b7b246df8f9039afb4144a1f6fd8d2ca17a180786b69acc140d282b71a49"
   }
  }
 },
 "nbformat": 4,
 "nbformat_minor": 2
}
